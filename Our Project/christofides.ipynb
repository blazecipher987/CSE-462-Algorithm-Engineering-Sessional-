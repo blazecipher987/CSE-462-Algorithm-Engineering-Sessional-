{
 "cells": [
  {
   "cell_type": "code",
   "execution_count": 1,
   "metadata": {},
   "outputs": [],
   "source": [
    "import random\n",
    "import networkx as nx\n",
    "import tsplib95\n",
    "from mst import MST\n",
    "import matplotlib.pyplot as plt"
   ]
  },
  {
   "cell_type": "code",
   "execution_count": 3,
   "metadata": {},
   "outputs": [],
   "source": [
    "def plot_graph(graph : nx.Graph, name : str):\n",
    "    pos = nx.shell_layout(graph)\n",
    "    nx.draw(graph, pos, with_labels=False)\n",
    "    weights = {edge : str(graph.get_edge_data(edge[0], edge[1])[\"weight\"]) for edge in graph.edges}\n",
    "    nx.draw_networkx_edge_labels(graph, pos, edge_labels=weights)\n",
    "    plt.savefig(name)\n",
    "    plt.close()"
   ]
  },
  {
   "cell_type": "code",
   "execution_count": 7,
   "metadata": {},
   "outputs": [
    {
     "name": "stdout",
     "output_type": "stream",
     "text": [
      "{(2, 14), (4, 10), (16, 13), (6, 0), (3, 12), (7, 5), (1, 9), (8, 11)}\n"
     ]
    }
   ],
   "source": [
    "file =  open('datasets/gr17.tsp')\n",
    "graph = tsplib95.read(file).get_graph()\n",
    "\n",
    "mst = MST()\n",
    "mst_graph = mst.get_mst_k(graph, k = 20)\n",
    "plot_graph(mst_graph, 'mst.png')\n",
    "\n",
    "odd_nodes = MST.get_odd_degree_nodes(mst_graph)\n",
    "subgraph = nx.subgraph(graph, odd_nodes)\n",
    "plot_graph(subgraph, name='subgraph.png')\n",
    "\n",
    "new_graph = nx.Graph()\n",
    "for e in graph.edges:\n",
    "    new_graph.add_edge(e[0], e[1], weight=-graph.get_edge_data(e[0], e[1])[\"weight\"])\n",
    "\n",
    "set_matching = nx.max_weight_matching(new_graph, maxcardinality=True)\n",
    "print(set_matching)\n",
    "\n",
    "matching_graph = nx.Graph()\n",
    "for m in set_matching:\n",
    "    matching_graph.add_edge(m[0], m[1], weight=graph.get_edge_data(m[0], m[1])[\"weight\"])\n",
    "\n",
    "plot_graph(matching_graph, name=\"min_matching.png\")"
   ]
  },
  {
   "cell_type": "code",
   "execution_count": 13,
   "metadata": {},
   "outputs": [
    {
     "name": "stdout",
     "output_type": "stream",
     "text": [
      "Minimum Cost Perfect Matching Pairs: {(7, 16), (5, 10), (0, 15), (3, 12), (4, 1)}\n",
      "Final TSP Tour: [2, 10, 9, 1, 4, 5, 7, 6, 0, 15, 11, 8, 12, 3, 16, 13, 14, 2]\n",
      "Final Cost of the TSP Tour: 2266\n"
     ]
    }
   ],
   "source": [
    "def plot_graph(graph : nx.Graph, name : str):\n",
    "    pos = nx.shell_layout(graph)\n",
    "    nx.draw(graph, pos, with_labels=False)\n",
    "    weights = {edge : str(graph.get_edge_data(edge[0], edge[1])[\"weight\"]) for edge in graph.edges}\n",
    "    nx.draw_networkx_edge_labels(graph, pos, edge_labels=weights)\n",
    "    plt.savefig(name)\n",
    "    plt.close()\n",
    "\n",
    "# Load the graph from a TSPLIB file\n",
    "file = open('datasets/gr17.tsp')\n",
    "graph = tsplib95.read(file).get_graph()\n",
    "\n",
    "# Step 1: Compute the Minimum Spanning Tree (MST) using Kruskal's Algorithm\n",
    "mst = MST()\n",
    "mst_graph = mst.get_mst_k(graph, k=20)  # Assuming an MST implementation using Kruskal's algorithm\n",
    "plot_graph(mst_graph, 'mst.png')\n",
    "\n",
    "# Step 2: Identify vertices with odd degree and create a subgraph\n",
    "odd_nodes = MST.get_odd_degree_nodes(mst_graph)\n",
    "subgraph = nx.subgraph(graph, odd_nodes)\n",
    "plot_graph(subgraph, name='subgraph.png')\n",
    "\n",
    "# Step 3: Find the minimum cost perfect matching using Blossom Algorithm\n",
    "# Using the Blossom algorithm via nx.max_weight_matching\n",
    "new_graph = nx.Graph()\n",
    "for e in subgraph.edges:\n",
    "    new_graph.add_edge(e[0], e[1], weight=-subgraph.get_edge_data(e[0], e[1])['weight'])\n",
    "\n",
    "set_matching = nx.max_weight_matching(new_graph, maxcardinality=True)\n",
    "print(\"Minimum Cost Perfect Matching Pairs:\", set_matching)\n",
    "\n",
    "# Add the matching edges to create a multigraph\n",
    "matching_graph = nx.Graph()\n",
    "for m in set_matching:\n",
    "    matching_graph.add_edge(m[0], m[1], weight=graph.get_edge_data(m[0], m[1])['weight'])\n",
    "\n",
    "plot_graph(matching_graph, name='matching_graph.png')\n",
    "\n",
    "# Step 4: Combine the MST and matching graph to form an Eulerian graph\n",
    "eulerian_graph = nx.MultiGraph(mst_graph)\n",
    "eulerian_graph.add_edges_from(matching_graph.edges(data=True))\n",
    "# plot_graph(eulerian_graph, name='eulerian_graph.png')\n",
    "\n",
    "# Step 5: Compute the Eulerian circuit and shortcut to form the TSP tour\n",
    "eulerian_circuit = list(nx.eulerian_circuit(eulerian_graph))\n",
    "tsp_tour = []\n",
    "visited = set()\n",
    "total_cost = 0\n",
    "\n",
    "for u, v in eulerian_circuit:\n",
    "    if u not in visited:\n",
    "        tsp_tour.append(u)\n",
    "        visited.add(u)\n",
    "    total_cost += graph[u][v]['weight'] if graph.has_edge(u, v) else 0\n",
    "tsp_tour.append(tsp_tour[0])  # Complete the tour by returning to the start\n",
    "\n",
    "# Validate using the triangle inequality property\n",
    "for i in range(len(tsp_tour) - 1):\n",
    "    a, b, c = tsp_tour[i - 1], tsp_tour[i], tsp_tour[(i + 1) % len(tsp_tour)]\n",
    "    if graph.has_edge(a, c) and graph[a][c]['weight'] <= graph[a][b]['weight'] + graph[b][c]['weight']:\n",
    "        continue  # Triangle inequality holds\n",
    "\n",
    "# Output the TSP tour and its cost\n",
    "print(\"Final TSP Tour:\", tsp_tour)\n",
    "print(\"Final Cost of the TSP Tour:\", total_cost)\n"
   ]
  }
 ],
 "metadata": {
  "kernelspec": {
   "display_name": "base",
   "language": "python",
   "name": "python3"
  },
  "language_info": {
   "codemirror_mode": {
    "name": "ipython",
    "version": 3
   },
   "file_extension": ".py",
   "mimetype": "text/x-python",
   "name": "python",
   "nbconvert_exporter": "python",
   "pygments_lexer": "ipython3",
   "version": "3.12.8"
  }
 },
 "nbformat": 4,
 "nbformat_minor": 2
}
