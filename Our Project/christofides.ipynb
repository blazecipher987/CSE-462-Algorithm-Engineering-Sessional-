{
 "cells": [
  {
   "cell_type": "markdown",
   "metadata": {},
   "source": [
    "# Imports\n",
    "---"
   ]
  },
  {
   "cell_type": "code",
   "execution_count": 1,
   "metadata": {},
   "outputs": [],
   "source": [
    "import random\n",
    "import networkx as nx\n",
    "import tsplib95\n",
    "from mst import MST\n",
    "import matplotlib.pyplot as plt\n",
    "import benchmark"
   ]
  },
  {
   "cell_type": "markdown",
   "metadata": {},
   "source": [
    "# Helper Functions\n",
    "---"
   ]
  },
  {
   "cell_type": "code",
   "execution_count": 2,
   "metadata": {},
   "outputs": [],
   "source": [
    "def plot_graph(graph : nx.Graph, name : str):\n",
    "    pos = nx.shell_layout(graph)\n",
    "    nx.draw(graph, pos, with_labels=False)\n",
    "    weights = {edge : str(graph.get_edge_data(edge[0], edge[1])[\"weight\"]) for edge in graph.edges}\n",
    "    nx.draw_networkx_edge_labels(graph, pos, edge_labels=weights)\n",
    "    plt.savefig(name)\n",
    "    plt.close()\n",
    "    \n",
    "def tour_cost(tsp_tour, graph: nx.Graph):\n",
    "    total_cost = 0\n",
    "    for i in range(len(tsp_tour) - 1):\n",
    "        u, v = tsp_tour[i], tsp_tour[i+1]\n",
    "        total_cost += graph[u][v]['weight']\n",
    "    return total_cost\n",
    "\n",
    "def approximation_ratio(ALG_COST, OPT_COST):\n",
    "    return ALG_COST / OPT_COST # Minimization problem"
   ]
  },
  {
   "cell_type": "markdown",
   "metadata": {},
   "source": [
    "# Christofides Algorithm\n",
    "---\n",
    "Steps:\n",
    "1. Find a minimum spanning tree T of G.\n",
    "2. Let O be the set of vertices with odd degree in T.\n",
    "3. Find a minimum weight perfect matching M in the induced subgraph given by the vertices from O.\n",
    "4. Combine the edges of M and T to form a connected multigraph H in which each vertex has even degree.\n",
    "5. Form an Eulerian circuit in H.\n",
    "6. Make the circuit found in step 5 into a Hamiltonian circuit by skipping repeated vertices (shortcutting).\n"
   ]
  },
  {
   "cell_type": "code",
   "execution_count": 3,
   "metadata": {},
   "outputs": [],
   "source": [
    "def christofides(graph: nx.Graph):\n",
    "    # Step 1: Compute the Minimum Spanning Tree (MST) using Kruskal's Algorithm\n",
    "    mst = MST()\n",
    "    # mst_graph = mst.get_mst_kruskal_k(graph, k=20)  # Assuming an MST implementation using Kruskal's algorithm\n",
    "    # mst_graph = mst.get_mst_kruskal(graph)\n",
    "    mst_graph = mst.get_mst_prims_k(graph=graph, k=10)\n",
    "    plot_graph(mst_graph, 'mst.png')\n",
    "\n",
    "    # Step 2: Identify vertices with odd degree and create a subgraph\n",
    "    odd_nodes = MST.get_odd_degree_nodes(mst_graph)\n",
    "    subgraph = nx.subgraph(graph, odd_nodes)\n",
    "    plot_graph(subgraph, name='subgraph.png')\n",
    "\n",
    "    # Step 3: Find the minimum cost perfect matching using Blossom Algorithm (Shrinks odd-length cycles aka BLOSSOMS)\n",
    "    # Using the Blossom algorithm via nx.max_weight_matching (-weights)\n",
    "    new_graph = nx.Graph()\n",
    "    for e in subgraph.edges:\n",
    "        new_graph.add_edge(e[0], e[1], weight=-subgraph.get_edge_data(e[0], e[1])['weight'])\n",
    "\n",
    "    set_matching = nx.max_weight_matching(new_graph, maxcardinality=True)\n",
    "    print(\"Minimum Cost Perfect Matching Pairs:\", set_matching)\n",
    "\n",
    "    # Add the matching edges to create a multigraph\n",
    "    matching_graph = nx.Graph()\n",
    "    for m in set_matching:\n",
    "        matching_graph.add_edge(m[0], m[1], weight=graph.get_edge_data(m[0], m[1])['weight'])\n",
    "\n",
    "    plot_graph(matching_graph, name='matching_graph.png')\n",
    "\n",
    "    # Step 4: Combine the MST and matching graph to form an Eulerian graph\n",
    "    eulerian_graph = nx.MultiGraph(mst_graph)\n",
    "    eulerian_graph.add_edges_from(matching_graph.edges(data=True))\n",
    "    # plot_graph(eulerian_graph, name='eulerian_graph.png')\n",
    "\n",
    "    # Step 5: Compute the Eulerian circuit and shortcut to form the TSP tour\n",
    "    eulerian_circuit = list(nx.eulerian_circuit(eulerian_graph))\n",
    "    tsp_tour = []\n",
    "    visited = set()\n",
    "\n",
    "    for u, v in eulerian_circuit:\n",
    "        if u not in visited:\n",
    "            tsp_tour.append(u)\n",
    "            visited.add(u)\n",
    "\n",
    "    tsp_tour.append(tsp_tour[0])  # Complete the tour by returning to the start\n",
    "\n",
    "    # Step 6: Removing shortcuts to form the TSP tour using traingle inequality (Hamiltionian cycle)\n",
    "    for i in range(len(tsp_tour) - 1):\n",
    "        a, b, c = tsp_tour[i - 1], tsp_tour[i], tsp_tour[(i + 1) % len(tsp_tour)]\n",
    "        if graph.has_edge(a, c) and graph[a][c]['weight'] <= graph[a][b]['weight'] + graph[b][c]['weight']:\n",
    "            continue  # Triangle inequality holds\n",
    "        \n",
    "    return tsp_tour\n"
   ]
  },
  {
   "cell_type": "code",
   "execution_count": 6,
   "metadata": {},
   "outputs": [
    {
     "name": "stdout",
     "output_type": "stream",
     "text": [
      "Dataset Used:  eil101\n",
      "Minimum Cost Perfect Matching Pairs: {(72, 73), (40, 26), (95, 87), (9, 51), (58, 13), (91, 16), (12, 28), (3, 77), (86, 38), (47, 49), (99, 96), (90, 32), (23, 67), (89, 18), (80, 24), (35, 65), (98, 93), (42, 43), (74, 41), (81, 34), (5, 60), (45, 17), (88, 52), (4, 25), (59, 92), (71, 66), (46, 82), (64, 63), (101, 27)}\n",
      "Final TSP Tour: [1, 50, 76, 77, 3, 29, 24, 80, 54, 55, 25, 4, 56, 39, 67, 23, 75, 74, 41, 22, 73, 72, 21, 40, 26, 58, 13, 94, 6, 89, 18, 60, 5, 84, 17, 45, 8, 46, 82, 48, 47, 49, 36, 19, 11, 64, 63, 90, 32, 10, 62, 88, 31, 70, 30, 20, 66, 71, 65, 35, 9, 51, 81, 34, 78, 33, 79, 68, 12, 28, 101, 27, 53, 97, 87, 42, 43, 15, 57, 2, 95, 98, 37, 100, 91, 16, 86, 38, 14, 44, 61, 85, 93, 59, 92, 99, 96, 83, 7, 52, 69, 1]\n",
      "Final Cost of the TSP Tour: 726\n",
      "Optimal Cost of the TSP Tour: 629\n",
      "Approximation Ratio: 1.1542130365659777\n",
      "--------------------------------------------------\n",
      "Dataset Used:  eil51\n",
      "Minimum Cost Perfect Matching Pairs: {(38, 16), (43, 24), (15, 33), (8, 26), (48, 23), (30, 39), (2, 32), (9, 34), (22, 36), (4, 18), (44, 37), (13, 25), (19, 40)}\n",
      "Final TSP Tour: [1, 22, 36, 35, 20, 3, 28, 31, 8, 26, 48, 23, 24, 43, 7, 27, 51, 46, 12, 47, 4, 18, 17, 44, 37, 15, 33, 45, 42, 19, 40, 41, 13, 25, 14, 6, 32, 2, 29, 21, 50, 34, 9, 16, 38, 30, 39, 10, 49, 5, 11, 1]\n",
      "Final Cost of the TSP Tour: 501\n",
      "Optimal Cost of the TSP Tour: 426\n",
      "Approximation Ratio: 1.176056338028169\n",
      "--------------------------------------------------\n",
      "Dataset Used:  eil76\n",
      "Minimum Cost Perfect Matching Pairs: {(50, 55), (21, 61), (53, 7), (48, 29), (62, 22), (63, 33), (37, 20), (65, 11), (69, 36), (54, 57), (18, 24), (47, 5), (41, 56), (19, 59), (4, 68), (26, 40), (42, 64), (46, 52), (75, 76), (3, 32), (74, 28), (10, 31)}\n",
      "Final TSP Tour: [1, 43, 42, 64, 41, 56, 23, 63, 33, 73, 16, 49, 24, 18, 50, 55, 25, 32, 3, 44, 9, 39, 72, 58, 10, 31, 38, 11, 65, 66, 53, 14, 59, 19, 35, 7, 8, 46, 52, 34, 67, 76, 26, 40, 12, 17, 51, 6, 68, 4, 75, 2, 74, 30, 48, 29, 45, 27, 13, 54, 57, 15, 5, 37, 20, 70, 60, 71, 36, 69, 47, 21, 61, 28, 62, 22, 1]\n",
      "Final Cost of the TSP Tour: 597\n",
      "Optimal Cost of the TSP Tour: 538\n",
      "Approximation Ratio: 1.1096654275092936\n",
      "--------------------------------------------------\n",
      "Dataset Used:  fri26\n",
      "Minimum Cost Perfect Matching Pairs: {(10, 8), (17, 19), (24, 0), (22, 23), (21, 25), (4, 5), (1, 3), (12, 14)}\n",
      "Final TSP Tour: [0, 24, 22, 23, 21, 25, 20, 16, 18, 17, 19, 15, 8, 9, 10, 7, 6, 4, 5, 3, 1, 2, 13, 12, 14, 11, 0]\n",
      "Final Cost of the TSP Tour: 1108\n",
      "Optimal Cost of the TSP Tour: 937\n",
      "Approximation Ratio: 1.1824973319103522\n",
      "--------------------------------------------------\n",
      "Dataset Used:  gr17\n",
      "Minimum Cost Perfect Matching Pairs: {(14, 7), (2, 10), (0, 15), (3, 12), (9, 1)}\n",
      "Final TSP Tour: [0, 15, 11, 8, 12, 3, 6, 16, 5, 13, 14, 10, 9, 1, 4, 2, 7, 0]\n",
      "Final Cost of the TSP Tour: 2284\n",
      "Optimal Cost of the TSP Tour: 2085\n",
      "Approximation Ratio: 1.0954436450839329\n",
      "--------------------------------------------------\n",
      "Dataset Used:  rat99\n",
      "Minimum Cost Perfect Matching Pairs: {(58, 59), (76, 85), (26, 27), (86, 94), (63, 51), (75, 73), (72, 81), (82, 83), (43, 42), (88, 89), (34, 44), (40, 38), (9, 18), (12, 22), (1, 10), (19, 28), (71, 79), (55, 64)}\n",
      "Final TSP Tour: [1, 10, 11, 12, 22, 23, 24, 25, 26, 27, 35, 36, 44, 45, 54, 53, 52, 51, 63, 62, 61, 60, 50, 49, 58, 59, 57, 56, 65, 74, 73, 75, 76, 85, 84, 83, 82, 91, 92, 93, 94, 86, 87, 88, 89, 90, 99, 98, 97, 96, 95, 77, 78, 79, 71, 72, 81, 80, 70, 69, 68, 67, 66, 64, 55, 46, 47, 48, 40, 38, 39, 41, 42, 43, 34, 33, 32, 31, 30, 29, 37, 28, 19, 20, 21, 13, 14, 15, 16, 17, 18, 9, 8, 7, 6, 5, 4, 3, 2, 1]\n",
      "Final Cost of the TSP Tour: 1331\n",
      "Optimal Cost of the TSP Tour: 1211\n",
      "Approximation Ratio: 1.0990916597853013\n",
      "--------------------------------------------------\n",
      "Dataset Used:  st70\n",
      "Minimum Cost Perfect Matching Pairs: {(19, 24), (14, 30), (46, 27), (23, 36), (2, 7), (51, 50), (11, 48), (56, 64), (66, 22), (26, 55), (62, 54), (17, 12), (68, 40), (21, 34), (4, 53), (13, 70), (39, 25), (35, 69)}\n",
      "Final TSP Tour: [1, 36, 23, 16, 47, 37, 58, 50, 51, 56, 64, 65, 67, 48, 11, 54, 62, 33, 12, 21, 34, 17, 9, 40, 27, 46, 45, 25, 39, 61, 68, 44, 14, 30, 20, 28, 26, 55, 49, 8, 3, 32, 7, 2, 18, 4, 53, 5, 10, 52, 60, 43, 41, 6, 42, 19, 24, 15, 57, 63, 22, 66, 59, 38, 69, 35, 31, 29, 70, 13, 1]\n",
      "Final Cost of the TSP Tour: 795\n",
      "Optimal Cost of the TSP Tour: 675\n",
      "Approximation Ratio: 1.1777777777777778\n",
      "--------------------------------------------------\n"
     ]
    }
   ],
   "source": [
    "train_datasets = ['datasets/eil101.tsp', 'datasets/eil51.tsp', 'datasets/eil76.tsp', 'datasets/fri26.tsp', 'datasets/gr17.tsp', 'datasets/rat99.tsp', 'datasets/st70.tsp']\n",
    "\n",
    "for dataset in train_datasets:\n",
    "    curr_dataset = dataset.split('/')[1][:-4]\n",
    "    print(\"Dataset Used: \", curr_dataset)\n",
    "    file = open(dataset)\n",
    "    graph = tsplib95.read(file).get_graph()\n",
    "    tsp_tour = christofides(graph)\n",
    "\n",
    "    optimal_cost = benchmark.optimal_values[curr_dataset]\n",
    "    total_cost = tour_cost(tsp_tour, graph)\n",
    "\n",
    "    print(\"Final TSP Tour:\", tsp_tour)\n",
    "    print(\"Final Cost of the TSP Tour:\", total_cost)\n",
    "    print(\"Optimal Cost of the TSP Tour:\", optimal_cost)\n",
    "    print(\"Approximation Ratio:\", approximation_ratio(total_cost, optimal_cost))\n",
    "    print(\"--------------------------------------------------\")\n",
    "    "
   ]
  }
 ],
 "metadata": {
  "kernelspec": {
   "display_name": "base",
   "language": "python",
   "name": "python3"
  },
  "language_info": {
   "codemirror_mode": {
    "name": "ipython",
    "version": 3
   },
   "file_extension": ".py",
   "mimetype": "text/x-python",
   "name": "python",
   "nbconvert_exporter": "python",
   "pygments_lexer": "ipython3",
   "version": "3.12.8"
  }
 },
 "nbformat": 4,
 "nbformat_minor": 2
}
